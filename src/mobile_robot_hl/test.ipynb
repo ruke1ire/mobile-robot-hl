{
 "cells": [
  {
   "cell_type": "code",
   "execution_count": 1,
   "id": "0e496f66-22bd-4e2c-bdef-25a5d8675e35",
   "metadata": {},
   "outputs": [],
   "source": [
    "from mobile_robot_hl.trainer.trainer import *\n",
    "from mobile_robot_hl.model import *\n",
    "from mobile_robot_hl.episode_data import *\n",
    "\n",
    "import traceback\n",
    "import os\n",
    "import torch\n",
    "import yaml\n",
    "import time\n",
    "\n",
    "demo_path = os.environ['MOBILE_ROBOT_HL_DEMO_PATH']\n",
    "task_path = os.environ['MOBILE_ROBOT_HL_TASK_PATH']\n",
    "model_path = os.environ['MOBILE_ROBOT_HL_MODEL_PATH']\n",
    "run_setup_path = os.environ['MOBILE_ROBOT_HL_RUN_SETUP_PATH']\n",
    "\n",
    "dh = DemoHandler(demo_path)\n",
    "th = TaskHandler(task_path, dh)\n",
    "mh = ModelHandler(model_path)\n",
    "\n",
    "dummy_observations = torch.zeros((40, 3, 30, 40))\n",
    "dummy_input_latent = torch.zeros((4, 40))\n",
    "dummy_actions = torch.zeros((3, 40))\n",
    "frame_no = torch.tensor(list(range(1,21))+list(range(1,21)))\n",
    "\n",
    "trainer = Trainer(mh, dh, th)\n",
    "\n",
    "def execute(run_name, run_file):\n",
    "        with open(f'{run_setup_path}/{run_name}/{run_file}.yaml', 'r') as stream:\n",
    "                f = yaml.safe_load(stream)\n",
    "        for key, value in f.items():\n",
    "                key_split = key.split('__')\n",
    "                command = key_split[0]\n",
    "                exec(f\"trainer.{command}(**value)\")\n",
    "        return f\n",
    "    "
   ]
  },
  {
   "cell_type": "code",
   "execution_count": 2,
   "id": "dc7623aa-b500-4938-b476-0b3cd0122a5f",
   "metadata": {},
   "outputs": [],
   "source": [
    "import seaborn as sns\n",
    "import numpy as np\n",
    "import matplotlib.pyplot as plt\n",
    "import wandb\n",
    "import hashlib\n",
    "\n",
    "sns.set_theme(style=\"darkgrid\")\n",
    "\n",
    "default_plot_size = (6.4,4.8)\n",
    "\n",
    "demo_names = dict(\n",
    "    oa = dict(\n",
    "        online = dict(\n",
    "            reil = ['oa_slrl_online','oa_slrl_online2'],\n",
    "            reil_sl = ['oa_sl_online','oa_sl_online2'],\n",
    "            reil_pre = ['oa_slrl_online_pretrained'],\n",
    "            hg_dagger = ['oa_hg_dagger']),\n",
    "        offline = dict(\n",
    "            reil = ['oa_slrl_offline_test'],\n",
    "            hg_dagger = ['oa_hg_dagger_offline_test'])),\n",
    "     th = dict(\n",
    "         online = dict(\n",
    "             reil = ['th_slrl_online','th_slrl_online2'],\n",
    "             reil_sl = ['th_sl_online','th_slrl_online2'],\n",
    "         ),\n",
    "         offline = dict(\n",
    "             reil = ['th_slrl_offline_test'],\n",
    "             hg_dagger = ['th_hg_dagger_offline_test'])))"
   ]
  },
  {
   "cell_type": "markdown",
   "id": "14cbff31-aeb4-42cb-ba58-80ca1ea2f6e4",
   "metadata": {},
   "source": [
    "### WandB Plotting"
   ]
  },
  {
   "cell_type": "code",
   "execution_count": 13,
   "id": "402cb8f4-7423-4047-aecb-7cefc36f5f1f",
   "metadata": {},
   "outputs": [
    {
     "name": "stderr",
     "output_type": "stream",
     "text": [
      "\u001b[34m\u001b[1mwandb\u001b[0m: wandb version 0.12.10 is available!  To upgrade, please run:\n",
      "\u001b[34m\u001b[1mwandb\u001b[0m:  $ pip install wandb --upgrade\n"
     ]
    },
    {
     "data": {
      "text/html": [
       "\n",
       "                    Syncing run <strong><a href=\"https://wandb.ai/ruke1ire/plot/runs/0b880cf5\" target=\"_blank\">average_supervised_frames_test_oa_online_reil</a></strong> to <a href=\"https://wandb.ai/ruke1ire/plot\" target=\"_blank\">Weights & Biases</a> (<a href=\"https://docs.wandb.com/integrations/jupyter.html\" target=\"_blank\">docs</a>).<br/>\n",
       "\n",
       "                "
      ],
      "text/plain": [
       "<IPython.core.display.HTML object>"
      ]
     },
     "metadata": {},
     "output_type": "display_data"
    },
    {
     "name": "stdout",
     "output_type": "stream",
     "text": [
      "Average supervised frames per episode = 4.11\n",
      "Cumulative supervised frames per episode = 411\n"
     ]
    },
    {
     "data": {
      "text/html": [
       "<br/>Waiting for W&B process to finish, PID 29333... <strong style=\"color:green\">(success).</strong>"
      ],
      "text/plain": [
       "<IPython.core.display.HTML object>"
      ]
     },
     "metadata": {},
     "output_type": "display_data"
    },
    {
     "data": {
      "text/html": [
       "<style>\n",
       "    table.wandb td:nth-child(1) { padding: 0 10px; text-align: right }\n",
       "    .wandb-row { display: flex; flex-direction: row; flex-wrap: wrap; width: 100% }\n",
       "    .wandb-col { display: flex; flex-direction: column; flex-basis: 100%; flex: 1; padding: 10px; }\n",
       "    </style>\n",
       "<div class=\"wandb-row\"><div class=\"wandb-col\">\n",
       "<h3>Run history:</h3><br/><table class=\"wandb\"><tr><td>Episode</td><td>▁▁▁▁▂▂▂▂▂▃▃▃▃▃▃▄▄▄▄▄▅▅▅▅▅▅▆▆▆▆▆▇▇▇▇▇▇███</td></tr><tr><td>Supervised Frames</td><td>█▄▄▂▁▂▂▄▁▁▂▁▂▁▂▁▁▁▁▂▂▂▂▂▁▂▂▂▂▂▁▁▁▁▂▂▁▁▂▂</td></tr><tr><td>Supervised Steps</td><td>▁▂▂▃▃▃▃▄▄▄▄▄▄▅▅▅▅▅▅▆▆▆▆▆▇▇▇▇▇▇██████████</td></tr></table><br/></div><div class=\"wandb-col\">\n",
       "<h3>Run summary:</h3><br/><table class=\"wandb\"><tr><td>Episode</td><td>100</td></tr><tr><td>Supervised Frames</td><td>5</td></tr><tr><td>Supervised Steps</td><td>406</td></tr></table>\n",
       "</div></div>\n",
       "Synced 6 W&B file(s), 0 media file(s), 0 artifact file(s) and 0 other file(s)\n",
       "<br/>Synced <strong style=\"color:#cdcd00\">average_supervised_frames_test_oa_online_reil</strong>: <a href=\"https://wandb.ai/ruke1ire/plot/runs/0b880cf5\" target=\"_blank\">https://wandb.ai/ruke1ire/plot/runs/0b880cf5</a><br/>\n",
       "Find logs at: <code>./wandb/run-20220223_152656-0b880cf5/logs</code><br/>\n"
      ],
      "text/plain": [
       "<IPython.core.display.HTML object>"
      ]
     },
     "metadata": {},
     "output_type": "display_data"
    },
    {
     "name": "stderr",
     "output_type": "stream",
     "text": [
      "\u001b[34m\u001b[1mwandb\u001b[0m: wandb version 0.12.10 is available!  To upgrade, please run:\n",
      "\u001b[34m\u001b[1mwandb\u001b[0m:  $ pip install wandb --upgrade\n"
     ]
    },
    {
     "data": {
      "text/html": [
       "\n",
       "                    Syncing run <strong><a href=\"https://wandb.ai/ruke1ire/plot/runs/b10c91c2\" target=\"_blank\">average_supervised_frames_test_oa_online_reil</a></strong> to <a href=\"https://wandb.ai/ruke1ire/plot\" target=\"_blank\">Weights & Biases</a> (<a href=\"https://docs.wandb.com/integrations/jupyter.html\" target=\"_blank\">docs</a>).<br/>\n",
       "\n",
       "                "
      ],
      "text/plain": [
       "<IPython.core.display.HTML object>"
      ]
     },
     "metadata": {},
     "output_type": "display_data"
    },
    {
     "name": "stdout",
     "output_type": "stream",
     "text": [
      "Average supervised frames per episode = 3.190000000000001\n",
      "Cumulative supervised frames per episode = 319\n"
     ]
    },
    {
     "data": {
      "text/html": [
       "<br/>Waiting for W&B process to finish, PID 29369... <strong style=\"color:green\">(success).</strong>"
      ],
      "text/plain": [
       "<IPython.core.display.HTML object>"
      ]
     },
     "metadata": {},
     "output_type": "display_data"
    },
    {
     "data": {
      "text/html": [
       "<style>\n",
       "    table.wandb td:nth-child(1) { padding: 0 10px; text-align: right }\n",
       "    .wandb-row { display: flex; flex-direction: row; flex-wrap: wrap; width: 100% }\n",
       "    .wandb-col { display: flex; flex-direction: column; flex-basis: 100%; flex: 1; padding: 10px; }\n",
       "    </style>\n",
       "<div class=\"wandb-row\"><div class=\"wandb-col\">\n",
       "<h3>Run history:</h3><br/><table class=\"wandb\"><tr><td>Episode</td><td>▁▁▁▁▂▂▂▂▂▃▃▃▃▃▃▄▄▄▄▄▅▅▅▅▅▅▆▆▆▆▆▇▇▇▇▇▇███</td></tr><tr><td>Supervised Frames</td><td>█▄▄▁▁▃▂▃▂▂▂▂▁▂▂▂▂▂▁▁▂▂▁▁▁▁▁▁▁▂▁▁▁▂▁▁▁▃▁▁</td></tr><tr><td>Supervised Steps</td><td>▁▂▃▃▃▄▄▄▅▅▅▅▆▆▆▆▆▇▇▇▇▇▇▇▇▇▇▇▇▇▇█████████</td></tr></table><br/></div><div class=\"wandb-col\">\n",
       "<h3>Run summary:</h3><br/><table class=\"wandb\"><tr><td>Episode</td><td>100</td></tr><tr><td>Supervised Frames</td><td>0</td></tr><tr><td>Supervised Steps</td><td>319</td></tr></table>\n",
       "</div></div>\n",
       "Synced 6 W&B file(s), 0 media file(s), 0 artifact file(s) and 0 other file(s)\n",
       "<br/>Synced <strong style=\"color:#cdcd00\">average_supervised_frames_test_oa_online_reil</strong>: <a href=\"https://wandb.ai/ruke1ire/plot/runs/b10c91c2\" target=\"_blank\">https://wandb.ai/ruke1ire/plot/runs/b10c91c2</a><br/>\n",
       "Find logs at: <code>./wandb/run-20220223_152711-b10c91c2/logs</code><br/>\n"
      ],
      "text/plain": [
       "<IPython.core.display.HTML object>"
      ]
     },
     "metadata": {},
     "output_type": "display_data"
    },
    {
     "name": "stderr",
     "output_type": "stream",
     "text": [
      "\u001b[34m\u001b[1mwandb\u001b[0m: wandb version 0.12.10 is available!  To upgrade, please run:\n",
      "\u001b[34m\u001b[1mwandb\u001b[0m:  $ pip install wandb --upgrade\n"
     ]
    },
    {
     "data": {
      "text/html": [
       "\n",
       "                    Syncing run <strong><a href=\"https://wandb.ai/ruke1ire/plot/runs/9b618d9c\" target=\"_blank\">average_supervised_frames_test_oa_online_reil_sl</a></strong> to <a href=\"https://wandb.ai/ruke1ire/plot\" target=\"_blank\">Weights & Biases</a> (<a href=\"https://docs.wandb.com/integrations/jupyter.html\" target=\"_blank\">docs</a>).<br/>\n",
       "\n",
       "                "
      ],
      "text/plain": [
       "<IPython.core.display.HTML object>"
      ]
     },
     "metadata": {},
     "output_type": "display_data"
    },
    {
     "name": "stdout",
     "output_type": "stream",
     "text": [
      "Average supervised frames per episode = 4.7799999999999985\n",
      "Cumulative supervised frames per episode = 478\n"
     ]
    },
    {
     "data": {
      "text/html": [
       "<br/>Waiting for W&B process to finish, PID 29405... <strong style=\"color:green\">(success).</strong>"
      ],
      "text/plain": [
       "<IPython.core.display.HTML object>"
      ]
     },
     "metadata": {},
     "output_type": "display_data"
    },
    {
     "data": {
      "text/html": [
       "<style>\n",
       "    table.wandb td:nth-child(1) { padding: 0 10px; text-align: right }\n",
       "    .wandb-row { display: flex; flex-direction: row; flex-wrap: wrap; width: 100% }\n",
       "    .wandb-col { display: flex; flex-direction: column; flex-basis: 100%; flex: 1; padding: 10px; }\n",
       "    </style>\n",
       "<div class=\"wandb-row\"><div class=\"wandb-col\">\n",
       "<h3>Run history:</h3><br/><table class=\"wandb\"><tr><td>Episode</td><td>▁▁▁▁▂▂▂▂▂▃▃▃▃▃▃▄▄▄▄▄▅▅▅▅▅▅▆▆▆▆▆▇▇▇▇▇▇███</td></tr><tr><td>Supervised Frames</td><td>█▃▂▁▂▂▂▂▂▂▃▂▂▄▂▂▂▁▁▁▁▃▁▁▁▁▁▁▄▁▁▂▂▃▂▁▃▂▁▁</td></tr><tr><td>Supervised Steps</td><td>▁▂▂▂▃▃▃▃▃▄▄▄▄▄▅▅▅▅▅▅▅▅▆▆▆▆▆▆▆▆▆▆▇▇▇▇▇███</td></tr></table><br/></div><div class=\"wandb-col\">\n",
       "<h3>Run summary:</h3><br/><table class=\"wandb\"><tr><td>Episode</td><td>100</td></tr><tr><td>Supervised Frames</td><td>0</td></tr><tr><td>Supervised Steps</td><td>478</td></tr></table>\n",
       "</div></div>\n",
       "Synced 6 W&B file(s), 0 media file(s), 0 artifact file(s) and 0 other file(s)\n",
       "<br/>Synced <strong style=\"color:#cdcd00\">average_supervised_frames_test_oa_online_reil_sl</strong>: <a href=\"https://wandb.ai/ruke1ire/plot/runs/9b618d9c\" target=\"_blank\">https://wandb.ai/ruke1ire/plot/runs/9b618d9c</a><br/>\n",
       "Find logs at: <code>./wandb/run-20220223_152726-9b618d9c/logs</code><br/>\n"
      ],
      "text/plain": [
       "<IPython.core.display.HTML object>"
      ]
     },
     "metadata": {},
     "output_type": "display_data"
    },
    {
     "name": "stderr",
     "output_type": "stream",
     "text": [
      "\u001b[34m\u001b[1mwandb\u001b[0m: wandb version 0.12.10 is available!  To upgrade, please run:\n",
      "\u001b[34m\u001b[1mwandb\u001b[0m:  $ pip install wandb --upgrade\n"
     ]
    },
    {
     "data": {
      "text/html": [
       "\n",
       "                    Syncing run <strong><a href=\"https://wandb.ai/ruke1ire/plot/runs/ec110390\" target=\"_blank\">average_supervised_frames_test_oa_online_reil_sl</a></strong> to <a href=\"https://wandb.ai/ruke1ire/plot\" target=\"_blank\">Weights & Biases</a> (<a href=\"https://docs.wandb.com/integrations/jupyter.html\" target=\"_blank\">docs</a>).<br/>\n",
       "\n",
       "                "
      ],
      "text/plain": [
       "<IPython.core.display.HTML object>"
      ]
     },
     "metadata": {},
     "output_type": "display_data"
    },
    {
     "name": "stdout",
     "output_type": "stream",
     "text": [
      "Average supervised frames per episode = 4.219999999999999\n",
      "Cumulative supervised frames per episode = 422\n"
     ]
    },
    {
     "data": {
      "text/html": [
       "<br/>Waiting for W&B process to finish, PID 29442... <strong style=\"color:green\">(success).</strong>"
      ],
      "text/plain": [
       "<IPython.core.display.HTML object>"
      ]
     },
     "metadata": {},
     "output_type": "display_data"
    },
    {
     "data": {
      "text/html": [
       "<style>\n",
       "    table.wandb td:nth-child(1) { padding: 0 10px; text-align: right }\n",
       "    .wandb-row { display: flex; flex-direction: row; flex-wrap: wrap; width: 100% }\n",
       "    .wandb-col { display: flex; flex-direction: column; flex-basis: 100%; flex: 1; padding: 10px; }\n",
       "    </style>\n",
       "<div class=\"wandb-row\"><div class=\"wandb-col\">\n",
       "<h3>Run history:</h3><br/><table class=\"wandb\"><tr><td>Episode</td><td>▁▁▁▁▂▂▂▂▂▃▃▃▃▃▃▄▄▄▄▄▅▅▅▅▅▅▆▆▆▆▆▇▇▇▇▇▇███</td></tr><tr><td>Supervised Frames</td><td>█▄▂▃▂▂▂▁▂▁▁▂▂▁▁▂▁▂▁▁▂▁▂▁▂▁▁▃▃▂▁▁▂▄▂▃▂▂▂▁</td></tr><tr><td>Supervised Steps</td><td>▁▂▂▂▃▃▃▃▄▄▄▄▄▄▅▅▅▅▅▅▅▅▅▅▅▆▆▆▆▆▆▆▆▇▇▇▇███</td></tr></table><br/></div><div class=\"wandb-col\">\n",
       "<h3>Run summary:</h3><br/><table class=\"wandb\"><tr><td>Episode</td><td>100</td></tr><tr><td>Supervised Frames</td><td>0</td></tr><tr><td>Supervised Steps</td><td>422</td></tr></table>\n",
       "</div></div>\n",
       "Synced 6 W&B file(s), 0 media file(s), 0 artifact file(s) and 0 other file(s)\n",
       "<br/>Synced <strong style=\"color:#cdcd00\">average_supervised_frames_test_oa_online_reil_sl</strong>: <a href=\"https://wandb.ai/ruke1ire/plot/runs/ec110390\" target=\"_blank\">https://wandb.ai/ruke1ire/plot/runs/ec110390</a><br/>\n",
       "Find logs at: <code>./wandb/run-20220223_152742-ec110390/logs</code><br/>\n"
      ],
      "text/plain": [
       "<IPython.core.display.HTML object>"
      ]
     },
     "metadata": {},
     "output_type": "display_data"
    },
    {
     "name": "stderr",
     "output_type": "stream",
     "text": [
      "\u001b[34m\u001b[1mwandb\u001b[0m: wandb version 0.12.10 is available!  To upgrade, please run:\n",
      "\u001b[34m\u001b[1mwandb\u001b[0m:  $ pip install wandb --upgrade\n"
     ]
    },
    {
     "data": {
      "text/html": [
       "\n",
       "                    Syncing run <strong><a href=\"https://wandb.ai/ruke1ire/plot/runs/8a55ffc0\" target=\"_blank\">average_supervised_frames_test_oa_online_reil_pre</a></strong> to <a href=\"https://wandb.ai/ruke1ire/plot\" target=\"_blank\">Weights & Biases</a> (<a href=\"https://docs.wandb.com/integrations/jupyter.html\" target=\"_blank\">docs</a>).<br/>\n",
       "\n",
       "                "
      ],
      "text/plain": [
       "<IPython.core.display.HTML object>"
      ]
     },
     "metadata": {},
     "output_type": "display_data"
    },
    {
     "name": "stdout",
     "output_type": "stream",
     "text": [
      "Average supervised frames per episode = 3.580000000000001\n",
      "Cumulative supervised frames per episode = 358\n"
     ]
    },
    {
     "data": {
      "text/html": [
       "<br/>Waiting for W&B process to finish, PID 29476... <strong style=\"color:green\">(success).</strong>"
      ],
      "text/plain": [
       "<IPython.core.display.HTML object>"
      ]
     },
     "metadata": {},
     "output_type": "display_data"
    },
    {
     "data": {
      "text/html": [
       "<style>\n",
       "    table.wandb td:nth-child(1) { padding: 0 10px; text-align: right }\n",
       "    .wandb-row { display: flex; flex-direction: row; flex-wrap: wrap; width: 100% }\n",
       "    .wandb-col { display: flex; flex-direction: column; flex-basis: 100%; flex: 1; padding: 10px; }\n",
       "    </style>\n",
       "<div class=\"wandb-row\"><div class=\"wandb-col\">\n",
       "<h3>Run history:</h3><br/><table class=\"wandb\"><tr><td>Episode</td><td>▁▁▁▂▂▂▂▂▂▃▃▃▃▃▃▄▄▄▄▄▅▅▅▅▅▅▆▆▆▆▆▆▇▇▇▇▇███</td></tr><tr><td>Supervised Frames</td><td>▁▅▁▄▃▃▁▁▁▁▂▂▁▁▁▁█▃▄▁▁▁▁▄▁▄▁▁▁▃▁▁▂▃▂▁▁▁▁▁</td></tr><tr><td>Supervised Steps</td><td>▁▁▁▂▂▂▃▃▃▃▃▃▃▃▄▄▄▄▄▅▅▅▅▅▆▆▆▆▆▆▇▇▇▇██████</td></tr></table><br/></div><div class=\"wandb-col\">\n",
       "<h3>Run summary:</h3><br/><table class=\"wandb\"><tr><td>Episode</td><td>100</td></tr><tr><td>Supervised Frames</td><td>0</td></tr><tr><td>Supervised Steps</td><td>358</td></tr></table>\n",
       "</div></div>\n",
       "Synced 6 W&B file(s), 0 media file(s), 0 artifact file(s) and 0 other file(s)\n",
       "<br/>Synced <strong style=\"color:#cdcd00\">average_supervised_frames_test_oa_online_reil_pre</strong>: <a href=\"https://wandb.ai/ruke1ire/plot/runs/8a55ffc0\" target=\"_blank\">https://wandb.ai/ruke1ire/plot/runs/8a55ffc0</a><br/>\n",
       "Find logs at: <code>./wandb/run-20220223_152758-8a55ffc0/logs</code><br/>\n"
      ],
      "text/plain": [
       "<IPython.core.display.HTML object>"
      ]
     },
     "metadata": {},
     "output_type": "display_data"
    },
    {
     "name": "stderr",
     "output_type": "stream",
     "text": [
      "\u001b[34m\u001b[1mwandb\u001b[0m: wandb version 0.12.10 is available!  To upgrade, please run:\n",
      "\u001b[34m\u001b[1mwandb\u001b[0m:  $ pip install wandb --upgrade\n"
     ]
    },
    {
     "data": {
      "text/html": [
       "\n",
       "                    Syncing run <strong><a href=\"https://wandb.ai/ruke1ire/plot/runs/b4ca3fdc\" target=\"_blank\">average_supervised_frames_test_oa_online_hg_dagger</a></strong> to <a href=\"https://wandb.ai/ruke1ire/plot\" target=\"_blank\">Weights & Biases</a> (<a href=\"https://docs.wandb.com/integrations/jupyter.html\" target=\"_blank\">docs</a>).<br/>\n",
       "\n",
       "                "
      ],
      "text/plain": [
       "<IPython.core.display.HTML object>"
      ]
     },
     "metadata": {},
     "output_type": "display_data"
    },
    {
     "name": "stdout",
     "output_type": "stream",
     "text": [
      "Average supervised frames per episode = 4.579999999999999\n",
      "Cumulative supervised frames per episode = 458\n"
     ]
    },
    {
     "data": {
      "text/html": [
       "<br/>Waiting for W&B process to finish, PID 29516... <strong style=\"color:green\">(success).</strong>"
      ],
      "text/plain": [
       "<IPython.core.display.HTML object>"
      ]
     },
     "metadata": {},
     "output_type": "display_data"
    },
    {
     "data": {
      "text/html": [
       "<style>\n",
       "    table.wandb td:nth-child(1) { padding: 0 10px; text-align: right }\n",
       "    .wandb-row { display: flex; flex-direction: row; flex-wrap: wrap; width: 100% }\n",
       "    .wandb-col { display: flex; flex-direction: column; flex-basis: 100%; flex: 1; padding: 10px; }\n",
       "    </style>\n",
       "<div class=\"wandb-row\"><div class=\"wandb-col\">\n",
       "<h3>Run history:</h3><br/><table class=\"wandb\"><tr><td>Episode</td><td>▁▁▁▂▂▂▂▂▂▃▃▃▃▃▃▄▄▄▄▄▅▅▅▅▅▅▆▆▆▆▆▆▇▇▇▇▇███</td></tr><tr><td>Supervised Frames</td><td>▃▅▆▃▄▁▃▁█▁▁▁▁▃▄▃▁▁▁▂▃▃▁▃▃▂▂▁▂▁▅▂▂▁▁▂▁▁▁▁</td></tr><tr><td>Supervised Steps</td><td>▁▁▁▂▂▂▂▃▃▃▃▃▄▄▄▄▄▅▅▅▅▅▅▅▆▆▆▆▆▆▆▇▇▇▇▇████</td></tr></table><br/></div><div class=\"wandb-col\">\n",
       "<h3>Run summary:</h3><br/><table class=\"wandb\"><tr><td>Episode</td><td>100</td></tr><tr><td>Supervised Frames</td><td>0</td></tr><tr><td>Supervised Steps</td><td>458</td></tr></table>\n",
       "</div></div>\n",
       "Synced 6 W&B file(s), 0 media file(s), 0 artifact file(s) and 0 other file(s)\n",
       "<br/>Synced <strong style=\"color:#cdcd00\">average_supervised_frames_test_oa_online_hg_dagger</strong>: <a href=\"https://wandb.ai/ruke1ire/plot/runs/b4ca3fdc\" target=\"_blank\">https://wandb.ai/ruke1ire/plot/runs/b4ca3fdc</a><br/>\n",
       "Find logs at: <code>./wandb/run-20220223_152813-b4ca3fdc/logs</code><br/>\n"
      ],
      "text/plain": [
       "<IPython.core.display.HTML object>"
      ]
     },
     "metadata": {},
     "output_type": "display_data"
    },
    {
     "name": "stderr",
     "output_type": "stream",
     "text": [
      "\u001b[34m\u001b[1mwandb\u001b[0m: wandb version 0.12.10 is available!  To upgrade, please run:\n",
      "\u001b[34m\u001b[1mwandb\u001b[0m:  $ pip install wandb --upgrade\n"
     ]
    },
    {
     "data": {
      "text/html": [
       "\n",
       "                    Syncing run <strong><a href=\"https://wandb.ai/ruke1ire/plot/runs/ec8bec66\" target=\"_blank\">average_supervised_frames_test_oa_offline_reil</a></strong> to <a href=\"https://wandb.ai/ruke1ire/plot\" target=\"_blank\">Weights & Biases</a> (<a href=\"https://docs.wandb.com/integrations/jupyter.html\" target=\"_blank\">docs</a>).<br/>\n",
       "\n",
       "                "
      ],
      "text/plain": [
       "<IPython.core.display.HTML object>"
      ]
     },
     "metadata": {},
     "output_type": "display_data"
    },
    {
     "name": "stdout",
     "output_type": "stream",
     "text": [
      "Average supervised frames per episode = 0.26666666666666666\n",
      "Cumulative supervised frames per episode = 4\n"
     ]
    },
    {
     "data": {
      "text/html": [
       "<br/>Waiting for W&B process to finish, PID 29552... <strong style=\"color:green\">(success).</strong>"
      ],
      "text/plain": [
       "<IPython.core.display.HTML object>"
      ]
     },
     "metadata": {},
     "output_type": "display_data"
    },
    {
     "data": {
      "text/html": [
       "<style>\n",
       "    table.wandb td:nth-child(1) { padding: 0 10px; text-align: right }\n",
       "    .wandb-row { display: flex; flex-direction: row; flex-wrap: wrap; width: 100% }\n",
       "    .wandb-col { display: flex; flex-direction: column; flex-basis: 100%; flex: 1; padding: 10px; }\n",
       "    </style>\n",
       "<div class=\"wandb-row\"><div class=\"wandb-col\">\n",
       "<h3>Run history:</h3><br/><table class=\"wandb\"><tr><td>Episode</td><td>▁▁▂▃▃▃▄▅▅▅▆▇▇▇█</td></tr><tr><td>Supervised Frames</td><td>▁▁▁▁▁▁▁▁▁▁▁█▁▁▁</td></tr><tr><td>Supervised Steps</td><td>▁▁▁▁▁▁▁▁▁▁▁▁███</td></tr></table><br/></div><div class=\"wandb-col\">\n",
       "<h3>Run summary:</h3><br/><table class=\"wandb\"><tr><td>Episode</td><td>15</td></tr><tr><td>Supervised Frames</td><td>0</td></tr><tr><td>Supervised Steps</td><td>4</td></tr></table>\n",
       "</div></div>\n",
       "Synced 6 W&B file(s), 0 media file(s), 0 artifact file(s) and 0 other file(s)\n",
       "<br/>Synced <strong style=\"color:#cdcd00\">average_supervised_frames_test_oa_offline_reil</strong>: <a href=\"https://wandb.ai/ruke1ire/plot/runs/ec8bec66\" target=\"_blank\">https://wandb.ai/ruke1ire/plot/runs/ec8bec66</a><br/>\n",
       "Find logs at: <code>./wandb/run-20220223_152828-ec8bec66/logs</code><br/>\n"
      ],
      "text/plain": [
       "<IPython.core.display.HTML object>"
      ]
     },
     "metadata": {},
     "output_type": "display_data"
    },
    {
     "name": "stderr",
     "output_type": "stream",
     "text": [
      "\u001b[34m\u001b[1mwandb\u001b[0m: wandb version 0.12.10 is available!  To upgrade, please run:\n",
      "\u001b[34m\u001b[1mwandb\u001b[0m:  $ pip install wandb --upgrade\n"
     ]
    },
    {
     "data": {
      "text/html": [
       "\n",
       "                    Syncing run <strong><a href=\"https://wandb.ai/ruke1ire/plot/runs/74596770\" target=\"_blank\">average_supervised_frames_test_oa_offline_hg_dagger</a></strong> to <a href=\"https://wandb.ai/ruke1ire/plot\" target=\"_blank\">Weights & Biases</a> (<a href=\"https://docs.wandb.com/integrations/jupyter.html\" target=\"_blank\">docs</a>).<br/>\n",
       "\n",
       "                "
      ],
      "text/plain": [
       "<IPython.core.display.HTML object>"
      ]
     },
     "metadata": {},
     "output_type": "display_data"
    },
    {
     "name": "stdout",
     "output_type": "stream",
     "text": [
      "Average supervised frames per episode = 1.0\n",
      "Cumulative supervised frames per episode = 15\n"
     ]
    },
    {
     "data": {
      "text/html": [
       "<br/>Waiting for W&B process to finish, PID 29589... <strong style=\"color:green\">(success).</strong>"
      ],
      "text/plain": [
       "<IPython.core.display.HTML object>"
      ]
     },
     "metadata": {},
     "output_type": "display_data"
    },
    {
     "data": {
      "text/html": [
       "<style>\n",
       "    table.wandb td:nth-child(1) { padding: 0 10px; text-align: right }\n",
       "    .wandb-row { display: flex; flex-direction: row; flex-wrap: wrap; width: 100% }\n",
       "    .wandb-col { display: flex; flex-direction: column; flex-basis: 100%; flex: 1; padding: 10px; }\n",
       "    </style>\n",
       "<div class=\"wandb-row\"><div class=\"wandb-col\">\n",
       "<h3>Run history:</h3><br/><table class=\"wandb\"><tr><td>Episode</td><td>▁▁▂▃▃▃▄▅▅▅▆▇▇▇█</td></tr><tr><td>Supervised Frames</td><td>▁▁▁▁▁▁▁▁▆▁█▄▁▁▁</td></tr><tr><td>Supervised Steps</td><td>▁▁▁▁▁▁▁▁▁▃▃▇███</td></tr></table><br/></div><div class=\"wandb-col\">\n",
       "<h3>Run summary:</h3><br/><table class=\"wandb\"><tr><td>Episode</td><td>15</td></tr><tr><td>Supervised Frames</td><td>0</td></tr><tr><td>Supervised Steps</td><td>15</td></tr></table>\n",
       "</div></div>\n",
       "Synced 6 W&B file(s), 0 media file(s), 0 artifact file(s) and 0 other file(s)\n",
       "<br/>Synced <strong style=\"color:#cdcd00\">average_supervised_frames_test_oa_offline_hg_dagger</strong>: <a href=\"https://wandb.ai/ruke1ire/plot/runs/74596770\" target=\"_blank\">https://wandb.ai/ruke1ire/plot/runs/74596770</a><br/>\n",
       "Find logs at: <code>./wandb/run-20220223_152836-74596770/logs</code><br/>\n"
      ],
      "text/plain": [
       "<IPython.core.display.HTML object>"
      ]
     },
     "metadata": {},
     "output_type": "display_data"
    },
    {
     "name": "stderr",
     "output_type": "stream",
     "text": [
      "\u001b[34m\u001b[1mwandb\u001b[0m: wandb version 0.12.10 is available!  To upgrade, please run:\n",
      "\u001b[34m\u001b[1mwandb\u001b[0m:  $ pip install wandb --upgrade\n"
     ]
    },
    {
     "data": {
      "text/html": [
       "\n",
       "                    Syncing run <strong><a href=\"https://wandb.ai/ruke1ire/plot/runs/5c3bd26b\" target=\"_blank\">average_supervised_frames_test_th_online_reil</a></strong> to <a href=\"https://wandb.ai/ruke1ire/plot\" target=\"_blank\">Weights & Biases</a> (<a href=\"https://docs.wandb.com/integrations/jupyter.html\" target=\"_blank\">docs</a>).<br/>\n",
       "\n",
       "                "
      ],
      "text/plain": [
       "<IPython.core.display.HTML object>"
      ]
     },
     "metadata": {},
     "output_type": "display_data"
    },
    {
     "name": "stdout",
     "output_type": "stream",
     "text": [
      "Average supervised frames per episode = 1.6900000000000006\n",
      "Cumulative supervised frames per episode = 169\n"
     ]
    },
    {
     "data": {
      "text/html": [
       "<br/>Waiting for W&B process to finish, PID 29626... <strong style=\"color:green\">(success).</strong>"
      ],
      "text/plain": [
       "<IPython.core.display.HTML object>"
      ]
     },
     "metadata": {},
     "output_type": "display_data"
    },
    {
     "data": {
      "text/html": [
       "<style>\n",
       "    table.wandb td:nth-child(1) { padding: 0 10px; text-align: right }\n",
       "    .wandb-row { display: flex; flex-direction: row; flex-wrap: wrap; width: 100% }\n",
       "    .wandb-col { display: flex; flex-direction: column; flex-basis: 100%; flex: 1; padding: 10px; }\n",
       "    </style>\n",
       "<div class=\"wandb-row\"><div class=\"wandb-col\">\n",
       "<h3>Run history:</h3><br/><table class=\"wandb\"><tr><td>Episode</td><td>▁▁▁▁▂▂▂▂▂▃▃▃▃▃▃▄▄▄▄▄▅▅▅▅▅▅▆▆▆▆▆▇▇▇▇▇▇███</td></tr><tr><td>Supervised Frames</td><td>█▃▁▁▃▂▃▁▂▁▄▁▁▁▁▁▃▁▁▁▁▁▁▃▁▃▁▁▁▃▁▁▃▁▃▁▁▂▁▁</td></tr><tr><td>Supervised Steps</td><td>▁▂▂▂▃▃▃▃▄▄▄▅▅▅▅▅▅▅▅▆▆▆▆▆▆▆▇▇▇▇▇▇▇███████</td></tr></table><br/></div><div class=\"wandb-col\">\n",
       "<h3>Run summary:</h3><br/><table class=\"wandb\"><tr><td>Episode</td><td>100</td></tr><tr><td>Supervised Frames</td><td>0</td></tr><tr><td>Supervised Steps</td><td>169</td></tr></table>\n",
       "</div></div>\n",
       "Synced 6 W&B file(s), 0 media file(s), 0 artifact file(s) and 0 other file(s)\n",
       "<br/>Synced <strong style=\"color:#cdcd00\">average_supervised_frames_test_th_online_reil</strong>: <a href=\"https://wandb.ai/ruke1ire/plot/runs/5c3bd26b\" target=\"_blank\">https://wandb.ai/ruke1ire/plot/runs/5c3bd26b</a><br/>\n",
       "Find logs at: <code>./wandb/run-20220223_152843-5c3bd26b/logs</code><br/>\n"
      ],
      "text/plain": [
       "<IPython.core.display.HTML object>"
      ]
     },
     "metadata": {},
     "output_type": "display_data"
    },
    {
     "name": "stderr",
     "output_type": "stream",
     "text": [
      "\u001b[34m\u001b[1mwandb\u001b[0m: wandb version 0.12.10 is available!  To upgrade, please run:\n",
      "\u001b[34m\u001b[1mwandb\u001b[0m:  $ pip install wandb --upgrade\n"
     ]
    },
    {
     "data": {
      "text/html": [
       "\n",
       "                    Syncing run <strong><a href=\"https://wandb.ai/ruke1ire/plot/runs/b0b5d66b\" target=\"_blank\">average_supervised_frames_test_th_online_reil</a></strong> to <a href=\"https://wandb.ai/ruke1ire/plot\" target=\"_blank\">Weights & Biases</a> (<a href=\"https://docs.wandb.com/integrations/jupyter.html\" target=\"_blank\">docs</a>).<br/>\n",
       "\n",
       "                "
      ],
      "text/plain": [
       "<IPython.core.display.HTML object>"
      ]
     },
     "metadata": {},
     "output_type": "display_data"
    },
    {
     "name": "stdout",
     "output_type": "stream",
     "text": [
      "Average supervised frames per episode = 1.0300000000000002\n",
      "Cumulative supervised frames per episode = 103\n"
     ]
    },
    {
     "data": {
      "text/html": [
       "<br/>Waiting for W&B process to finish, PID 29664... <strong style=\"color:green\">(success).</strong>"
      ],
      "text/plain": [
       "<IPython.core.display.HTML object>"
      ]
     },
     "metadata": {},
     "output_type": "display_data"
    },
    {
     "data": {
      "text/html": [
       "<style>\n",
       "    table.wandb td:nth-child(1) { padding: 0 10px; text-align: right }\n",
       "    .wandb-row { display: flex; flex-direction: row; flex-wrap: wrap; width: 100% }\n",
       "    .wandb-col { display: flex; flex-direction: column; flex-basis: 100%; flex: 1; padding: 10px; }\n",
       "    </style>\n",
       "<div class=\"wandb-row\"><div class=\"wandb-col\">\n",
       "<h3>Run history:</h3><br/><table class=\"wandb\"><tr><td>Episode</td><td>▁▁▁▁▂▂▂▂▂▃▃▃▃▃▃▄▄▄▄▄▅▅▅▅▅▅▆▆▆▆▆▇▇▇▇▇▇███</td></tr><tr><td>Supervised Frames</td><td>█▂▁▂▂▃▁▁▁▃▁▁▁▁▁▂▁▁▁▁▁▁▁▁▂▁▃▁▁▁▁▁▁▁▁▁▁▁▁▂</td></tr><tr><td>Supervised Steps</td><td>▁▃▃▃▄▄▄▄▅▅▅▅▅▆▆▆▆▆▆▆▇▇▇▇▇███████████████</td></tr></table><br/></div><div class=\"wandb-col\">\n",
       "<h3>Run summary:</h3><br/><table class=\"wandb\"><tr><td>Episode</td><td>100</td></tr><tr><td>Supervised Frames</td><td>2</td></tr><tr><td>Supervised Steps</td><td>101</td></tr></table>\n",
       "</div></div>\n",
       "Synced 6 W&B file(s), 0 media file(s), 0 artifact file(s) and 0 other file(s)\n",
       "<br/>Synced <strong style=\"color:#cdcd00\">average_supervised_frames_test_th_online_reil</strong>: <a href=\"https://wandb.ai/ruke1ire/plot/runs/b0b5d66b\" target=\"_blank\">https://wandb.ai/ruke1ire/plot/runs/b0b5d66b</a><br/>\n",
       "Find logs at: <code>./wandb/run-20220223_152855-b0b5d66b/logs</code><br/>\n"
      ],
      "text/plain": [
       "<IPython.core.display.HTML object>"
      ]
     },
     "metadata": {},
     "output_type": "display_data"
    },
    {
     "name": "stderr",
     "output_type": "stream",
     "text": [
      "\u001b[34m\u001b[1mwandb\u001b[0m: wandb version 0.12.10 is available!  To upgrade, please run:\n",
      "\u001b[34m\u001b[1mwandb\u001b[0m:  $ pip install wandb --upgrade\n"
     ]
    },
    {
     "data": {
      "text/html": [
       "\n",
       "                    Syncing run <strong><a href=\"https://wandb.ai/ruke1ire/plot/runs/b23fb3b1\" target=\"_blank\">average_supervised_frames_test_th_online_reil_sl</a></strong> to <a href=\"https://wandb.ai/ruke1ire/plot\" target=\"_blank\">Weights & Biases</a> (<a href=\"https://docs.wandb.com/integrations/jupyter.html\" target=\"_blank\">docs</a>).<br/>\n",
       "\n",
       "                "
      ],
      "text/plain": [
       "<IPython.core.display.HTML object>"
      ]
     },
     "metadata": {},
     "output_type": "display_data"
    },
    {
     "name": "stdout",
     "output_type": "stream",
     "text": [
      "Average supervised frames per episode = 2.030000000000001\n",
      "Cumulative supervised frames per episode = 203\n"
     ]
    },
    {
     "data": {
      "text/html": [
       "<br/>Waiting for W&B process to finish, PID 29701... <strong style=\"color:green\">(success).</strong>"
      ],
      "text/plain": [
       "<IPython.core.display.HTML object>"
      ]
     },
     "metadata": {},
     "output_type": "display_data"
    },
    {
     "data": {
      "text/html": [
       "<style>\n",
       "    table.wandb td:nth-child(1) { padding: 0 10px; text-align: right }\n",
       "    .wandb-row { display: flex; flex-direction: row; flex-wrap: wrap; width: 100% }\n",
       "    .wandb-col { display: flex; flex-direction: column; flex-basis: 100%; flex: 1; padding: 10px; }\n",
       "    </style>\n",
       "<div class=\"wandb-row\"><div class=\"wandb-col\">\n",
       "<h3>Run history:</h3><br/><table class=\"wandb\"><tr><td>Episode</td><td>▁▁▁▁▂▂▂▂▂▃▃▃▃▃▃▄▄▄▄▄▅▅▅▅▅▅▆▆▆▆▆▇▇▇▇▇▇███</td></tr><tr><td>Supervised Frames</td><td>█▂▁▃▂▃▅▁▁▂▁▄▃▃▁▁▃▁▃▂▁▁▁▂▂▁▄▁▁▃▁▃▃▁▁▂▁▃▁▂</td></tr><tr><td>Supervised Steps</td><td>▁▂▂▂▂▂▃▃▃▃▄▄▄▄▅▅▅▅▅▆▆▆▆▆▆▆▆▇▇▇▇▇▇▇▇█████</td></tr></table><br/></div><div class=\"wandb-col\">\n",
       "<h3>Run summary:</h3><br/><table class=\"wandb\"><tr><td>Episode</td><td>100</td></tr><tr><td>Supervised Frames</td><td>3</td></tr><tr><td>Supervised Steps</td><td>200</td></tr></table>\n",
       "</div></div>\n",
       "Synced 6 W&B file(s), 0 media file(s), 0 artifact file(s) and 0 other file(s)\n",
       "<br/>Synced <strong style=\"color:#cdcd00\">average_supervised_frames_test_th_online_reil_sl</strong>: <a href=\"https://wandb.ai/ruke1ire/plot/runs/b23fb3b1\" target=\"_blank\">https://wandb.ai/ruke1ire/plot/runs/b23fb3b1</a><br/>\n",
       "Find logs at: <code>./wandb/run-20220223_152906-b23fb3b1/logs</code><br/>\n"
      ],
      "text/plain": [
       "<IPython.core.display.HTML object>"
      ]
     },
     "metadata": {},
     "output_type": "display_data"
    },
    {
     "name": "stderr",
     "output_type": "stream",
     "text": [
      "\u001b[34m\u001b[1mwandb\u001b[0m: wandb version 0.12.10 is available!  To upgrade, please run:\n",
      "\u001b[34m\u001b[1mwandb\u001b[0m:  $ pip install wandb --upgrade\n"
     ]
    },
    {
     "data": {
      "text/html": [
       "\n",
       "                    Syncing run <strong><a href=\"https://wandb.ai/ruke1ire/plot/runs/99fba54e\" target=\"_blank\">average_supervised_frames_test_th_online_reil_sl</a></strong> to <a href=\"https://wandb.ai/ruke1ire/plot\" target=\"_blank\">Weights & Biases</a> (<a href=\"https://docs.wandb.com/integrations/jupyter.html\" target=\"_blank\">docs</a>).<br/>\n",
       "\n",
       "                "
      ],
      "text/plain": [
       "<IPython.core.display.HTML object>"
      ]
     },
     "metadata": {},
     "output_type": "display_data"
    },
    {
     "name": "stdout",
     "output_type": "stream",
     "text": [
      "Average supervised frames per episode = 1.0300000000000002\n",
      "Cumulative supervised frames per episode = 103\n"
     ]
    },
    {
     "data": {
      "text/html": [
       "<br/>Waiting for W&B process to finish, PID 29735... <strong style=\"color:green\">(success).</strong>"
      ],
      "text/plain": [
       "<IPython.core.display.HTML object>"
      ]
     },
     "metadata": {},
     "output_type": "display_data"
    },
    {
     "data": {
      "text/html": [
       "<style>\n",
       "    table.wandb td:nth-child(1) { padding: 0 10px; text-align: right }\n",
       "    .wandb-row { display: flex; flex-direction: row; flex-wrap: wrap; width: 100% }\n",
       "    .wandb-col { display: flex; flex-direction: column; flex-basis: 100%; flex: 1; padding: 10px; }\n",
       "    </style>\n",
       "<div class=\"wandb-row\"><div class=\"wandb-col\">\n",
       "<h3>Run history:</h3><br/><table class=\"wandb\"><tr><td>Episode</td><td>▁▁▁▁▂▂▂▂▂▃▃▃▃▃▃▄▄▄▄▄▅▅▅▅▅▅▆▆▆▆▆▇▇▇▇▇▇███</td></tr><tr><td>Supervised Frames</td><td>█▂▁▂▂▃▁▁▁▃▁▁▁▁▁▂▁▁▁▁▁▁▁▁▂▁▃▁▁▁▁▁▁▁▁▁▁▁▁▂</td></tr><tr><td>Supervised Steps</td><td>▁▃▃▃▄▄▄▄▅▅▅▅▅▆▆▆▆▆▆▆▇▇▇▇▇███████████████</td></tr></table><br/></div><div class=\"wandb-col\">\n",
       "<h3>Run summary:</h3><br/><table class=\"wandb\"><tr><td>Episode</td><td>100</td></tr><tr><td>Supervised Frames</td><td>2</td></tr><tr><td>Supervised Steps</td><td>101</td></tr></table>\n",
       "</div></div>\n",
       "Synced 6 W&B file(s), 0 media file(s), 0 artifact file(s) and 0 other file(s)\n",
       "<br/>Synced <strong style=\"color:#cdcd00\">average_supervised_frames_test_th_online_reil_sl</strong>: <a href=\"https://wandb.ai/ruke1ire/plot/runs/99fba54e\" target=\"_blank\">https://wandb.ai/ruke1ire/plot/runs/99fba54e</a><br/>\n",
       "Find logs at: <code>./wandb/run-20220223_152918-99fba54e/logs</code><br/>\n"
      ],
      "text/plain": [
       "<IPython.core.display.HTML object>"
      ]
     },
     "metadata": {},
     "output_type": "display_data"
    },
    {
     "name": "stderr",
     "output_type": "stream",
     "text": [
      "\u001b[34m\u001b[1mwandb\u001b[0m: wandb version 0.12.10 is available!  To upgrade, please run:\n",
      "\u001b[34m\u001b[1mwandb\u001b[0m:  $ pip install wandb --upgrade\n"
     ]
    },
    {
     "data": {
      "text/html": [
       "\n",
       "                    Syncing run <strong><a href=\"https://wandb.ai/ruke1ire/plot/runs/2c6cfc98\" target=\"_blank\">average_supervised_frames_test_th_offline_reil</a></strong> to <a href=\"https://wandb.ai/ruke1ire/plot\" target=\"_blank\">Weights & Biases</a> (<a href=\"https://docs.wandb.com/integrations/jupyter.html\" target=\"_blank\">docs</a>).<br/>\n",
       "\n",
       "                "
      ],
      "text/plain": [
       "<IPython.core.display.HTML object>"
      ]
     },
     "metadata": {},
     "output_type": "display_data"
    },
    {
     "name": "stdout",
     "output_type": "stream",
     "text": [
      "Average supervised frames per episode = 0.0\n",
      "Cumulative supervised frames per episode = 0\n"
     ]
    },
    {
     "data": {
      "text/html": [
       "<br/>Waiting for W&B process to finish, PID 29769... <strong style=\"color:green\">(success).</strong>"
      ],
      "text/plain": [
       "<IPython.core.display.HTML object>"
      ]
     },
     "metadata": {},
     "output_type": "display_data"
    },
    {
     "data": {
      "text/html": [
       "<style>\n",
       "    table.wandb td:nth-child(1) { padding: 0 10px; text-align: right }\n",
       "    .wandb-row { display: flex; flex-direction: row; flex-wrap: wrap; width: 100% }\n",
       "    .wandb-col { display: flex; flex-direction: column; flex-basis: 100%; flex: 1; padding: 10px; }\n",
       "    </style>\n",
       "<div class=\"wandb-row\"><div class=\"wandb-col\">\n",
       "<h3>Run history:</h3><br/><table class=\"wandb\"><tr><td>Episode</td><td>▁▁▂▃▃▃▄▅▅▅▆▇▇▇█</td></tr><tr><td>Supervised Frames</td><td>▁▁▁▁▁▁▁▁▁▁▁▁▁▁▁</td></tr><tr><td>Supervised Steps</td><td>▁▁▁▁▁▁▁▁▁▁▁▁▁▁▁</td></tr></table><br/></div><div class=\"wandb-col\">\n",
       "<h3>Run summary:</h3><br/><table class=\"wandb\"><tr><td>Episode</td><td>15</td></tr><tr><td>Supervised Frames</td><td>0</td></tr><tr><td>Supervised Steps</td><td>0</td></tr></table>\n",
       "</div></div>\n",
       "Synced 6 W&B file(s), 0 media file(s), 0 artifact file(s) and 0 other file(s)\n",
       "<br/>Synced <strong style=\"color:#cdcd00\">average_supervised_frames_test_th_offline_reil</strong>: <a href=\"https://wandb.ai/ruke1ire/plot/runs/2c6cfc98\" target=\"_blank\">https://wandb.ai/ruke1ire/plot/runs/2c6cfc98</a><br/>\n",
       "Find logs at: <code>./wandb/run-20220223_152929-2c6cfc98/logs</code><br/>\n"
      ],
      "text/plain": [
       "<IPython.core.display.HTML object>"
      ]
     },
     "metadata": {},
     "output_type": "display_data"
    },
    {
     "name": "stderr",
     "output_type": "stream",
     "text": [
      "\u001b[34m\u001b[1mwandb\u001b[0m: wandb version 0.12.10 is available!  To upgrade, please run:\n",
      "\u001b[34m\u001b[1mwandb\u001b[0m:  $ pip install wandb --upgrade\n"
     ]
    },
    {
     "data": {
      "text/html": [
       "\n",
       "                    Syncing run <strong><a href=\"https://wandb.ai/ruke1ire/plot/runs/f0a892b0\" target=\"_blank\">average_supervised_frames_test_th_offline_hg_dagger</a></strong> to <a href=\"https://wandb.ai/ruke1ire/plot\" target=\"_blank\">Weights & Biases</a> (<a href=\"https://docs.wandb.com/integrations/jupyter.html\" target=\"_blank\">docs</a>).<br/>\n",
       "\n",
       "                "
      ],
      "text/plain": [
       "<IPython.core.display.HTML object>"
      ]
     },
     "metadata": {},
     "output_type": "display_data"
    },
    {
     "name": "stdout",
     "output_type": "stream",
     "text": [
      "Average supervised frames per episode = 0.0\n",
      "Cumulative supervised frames per episode = 0\n"
     ]
    },
    {
     "data": {
      "text/html": [
       "<br/>Waiting for W&B process to finish, PID 29805... <strong style=\"color:green\">(success).</strong>"
      ],
      "text/plain": [
       "<IPython.core.display.HTML object>"
      ]
     },
     "metadata": {},
     "output_type": "display_data"
    },
    {
     "data": {
      "text/html": [
       "<style>\n",
       "    table.wandb td:nth-child(1) { padding: 0 10px; text-align: right }\n",
       "    .wandb-row { display: flex; flex-direction: row; flex-wrap: wrap; width: 100% }\n",
       "    .wandb-col { display: flex; flex-direction: column; flex-basis: 100%; flex: 1; padding: 10px; }\n",
       "    </style>\n",
       "<div class=\"wandb-row\"><div class=\"wandb-col\">\n",
       "<h3>Run history:</h3><br/><table class=\"wandb\"><tr><td>Episode</td><td>▁▁▂▃▃▃▄▅▅▅▆▇▇▇█</td></tr><tr><td>Supervised Frames</td><td>▁▁▁▁▁▁▁▁▁▁▁▁▁▁▁</td></tr><tr><td>Supervised Steps</td><td>▁▁▁▁▁▁▁▁▁▁▁▁▁▁▁</td></tr></table><br/></div><div class=\"wandb-col\">\n",
       "<h3>Run summary:</h3><br/><table class=\"wandb\"><tr><td>Episode</td><td>15</td></tr><tr><td>Supervised Frames</td><td>0</td></tr><tr><td>Supervised Steps</td><td>0</td></tr></table>\n",
       "</div></div>\n",
       "Synced 6 W&B file(s), 0 media file(s), 0 artifact file(s) and 0 other file(s)\n",
       "<br/>Synced <strong style=\"color:#cdcd00\">average_supervised_frames_test_th_offline_hg_dagger</strong>: <a href=\"https://wandb.ai/ruke1ire/plot/runs/f0a892b0\" target=\"_blank\">https://wandb.ai/ruke1ire/plot/runs/f0a892b0</a><br/>\n",
       "Find logs at: <code>./wandb/run-20220223_152936-f0a892b0/logs</code><br/>\n"
      ],
      "text/plain": [
       "<IPython.core.display.HTML object>"
      ]
     },
     "metadata": {},
     "output_type": "display_data"
    }
   ],
   "source": [
    "# Average Time\n",
    "metric_name = 'average_supervised_frames_test'\n",
    "id_ = 8\n",
    "y_name = \"Supervised Frames\"\n",
    "\n",
    "for task_name in demo_names.keys():\n",
    "    task = demo_names[task_name]\n",
    "    for mode_name in task.keys():\n",
    "        mode = task[mode_name]\n",
    "        for alg_name in mode:\n",
    "            run_names = mode[alg_name]\n",
    "            x_arr = []\n",
    "            y_arr = []\n",
    "            for run in run_names:\n",
    "                s = metric_name+task_name+mode_name+alg_name+run+str(id_)\n",
    "                hash_id = hashlib.md5(s.encode()).hexdigest()[-8:]\n",
    "                run_wandb = wandb.init(reinit=True, project=\"plot\", entity=\"ruke1ire\",name = f'{metric_name}_{task_name}_{mode_name}_{alg_name}', id = hash_id)\n",
    "                \n",
    "                avg, arrs = trainer.compute_test_metric(metric_name, [run])\n",
    "                _, supervised_steps_arr = trainer.compute_test_metric('cumulative_supervised_frames_test',[run])\n",
    "                \n",
    "                supervised_steps = supervised_steps_arr[1]\n",
    "                supervised_steps[1:] = supervised_steps[:-1]\n",
    "                supervised_steps[0] = 0\n",
    "                \n",
    "                if(run in [\"oa_hg_dagger\", \"oa_slrl_online_pretrained\"]):\n",
    "                    arrs = list(arrs)\n",
    "                    arrs[0] = arrs[0][6:]\n",
    "                    arrs[1] = arrs[1][6:]\n",
    "                    supervised_steps = supervised_steps[6:]\n",
    "\n",
    "                for i in range(len(arrs[0])):\n",
    "                    wandb.log({\"Episode\": arrs[0][i]+1,y_name: arrs[1][i], \"Supervised Steps\": supervised_steps[i]})\n",
    "                run_wandb.finish()\n"
   ]
  },
  {
   "cell_type": "markdown",
   "id": "a018ae4b-4182-43e5-8f6a-aa1d64d7bbf8",
   "metadata": {},
   "source": [
    "### Mean, Std, Min, Max Calculator"
   ]
  },
  {
   "cell_type": "code",
   "execution_count": 38,
   "id": "893f3043-6488-4647-b8eb-66bdcddba62d",
   "metadata": {},
   "outputs": [
    {
     "name": "stdout",
     "output_type": "stream",
     "text": [
      "Average Angular Velocity Difference = 0.056114590167999266\n",
      "mean 0.056114590167999266\n",
      "std 0.009193236355077333\n",
      "min 0.041656672954559326\n",
      "max 0.07211875915527344\n"
     ]
    }
   ],
   "source": [
    "avg, arrs = trainer.compute_test_metric('average_angular_change_test',['oa_slrl_offline_test'])\n",
    "data = arrs[1]\n",
    "print(\"mean\",np.mean(data))\n",
    "print(\"std\",np.std(data))\n",
    "print(\"min\",np.min(data))\n",
    "print(\"max\",np.max(data))"
   ]
  },
  {
   "cell_type": "code",
   "execution_count": 18,
   "id": "a9f79a51-98c3-4610-93f6-fa29742e5222",
   "metadata": {},
   "outputs": [
    {
     "name": "stdout",
     "output_type": "stream",
     "text": [
      "Similarity = -0.1826193779706955\n"
     ]
    },
    {
     "data": {
      "text/plain": [
       "(tensor(-0.1826),\n",
       " (array([ 0,  1,  2,  3,  4,  5,  6,  7,  8,  9, 10, 11, 12, 13, 14]),\n",
       "  array([-0.15823296, -0.16653422, -0.17376131, -0.16304904, -0.15511994,\n",
       "         -0.13076955, -0.17773598, -0.21306618, -0.21179439, -0.27329817,\n",
       "         -0.17618513, -0.20878015, -0.19291866, -0.18448527, -0.15355971])))"
      ]
     },
     "execution_count": 18,
     "metadata": {},
     "output_type": "execute_result"
    }
   ],
   "source": [
    "trainer.compute_test_metric('velocity_similarity_test',['oa_hg_dagger_offline_test'])"
   ]
  },
  {
   "cell_type": "code",
   "execution_count": null,
   "id": "012a68ff-b571-4841-88b0-134ae866b4a2",
   "metadata": {},
   "outputs": [],
   "source": []
  }
 ],
 "metadata": {
  "kernelspec": {
   "display_name": "Python 3",
   "language": "python",
   "name": "python3"
  },
  "language_info": {
   "codemirror_mode": {
    "name": "ipython",
    "version": 3
   },
   "file_extension": ".py",
   "mimetype": "text/x-python",
   "name": "python",
   "nbconvert_exporter": "python",
   "pygments_lexer": "ipython3",
   "version": "3.9.7"
  }
 },
 "nbformat": 4,
 "nbformat_minor": 5
}
